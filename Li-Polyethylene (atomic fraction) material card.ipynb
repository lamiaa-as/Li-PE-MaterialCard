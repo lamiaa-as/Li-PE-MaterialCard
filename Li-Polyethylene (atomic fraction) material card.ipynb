{
 "cells": [
  {
   "cell_type": "code",
   "execution_count": 1,
   "id": "7cbe06ff-1ab1-402e-a9f1-a73b199f7f6f",
   "metadata": {},
   "outputs": [],
   "source": [
    "import openmc "
   ]
  },
  {
   "cell_type": "code",
   "execution_count": 2,
   "id": "ec315561-44a6-43cd-9ae9-7ee9966bb5d3",
   "metadata": {},
   "outputs": [],
   "source": [
    "model = openmc.Model()"
   ]
  },
  {
   "cell_type": "code",
   "execution_count": 3,
   "id": "b5fc0411-cfc9-4da7-a76f-ac91f2e4bdd8",
   "metadata": {},
   "outputs": [],
   "source": [
    "li_pe_atomic = openmc.Material(name = \"Li-Polyethylene (Atomic Fraction)\")"
   ]
  },
  {
   "cell_type": "code",
   "execution_count": 4,
   "id": "c97f790e-334d-4143-9cb5-c4e2e72ef188",
   "metadata": {},
   "outputs": [],
   "source": [
    "li_pe_atomic.add_nuclide('C12',0.3075)"
   ]
  },
  {
   "cell_type": "code",
   "execution_count": 5,
   "id": "1b537cdf-2de2-41cd-9fca-e48db932dfc8",
   "metadata": {},
   "outputs": [],
   "source": [
    "li_pe_atomic.add_nuclide('C13',0.0031)"
   ]
  },
  {
   "cell_type": "code",
   "execution_count": 6,
   "id": "70f368ef-0b0c-45c3-ad8c-14255fd467b5",
   "metadata": {},
   "outputs": [],
   "source": [
    "li_pe_atomic.add_nuclide('H1',0.6196)"
   ]
  },
  {
   "cell_type": "code",
   "execution_count": 8,
   "id": "9f46c1f9-72ce-4e6c-a846-f138cd11b00b",
   "metadata": {},
   "outputs": [],
   "source": [
    "li_pe_atomic.add_nuclide('H2',0.0000624)"
   ]
  },
  {
   "cell_type": "code",
   "execution_count": 10,
   "id": "3fded3b4-5426-40aa-b1eb-2a31f9611ed8",
   "metadata": {},
   "outputs": [],
   "source": [
    "li_pe_atomic.add_nuclide('Li6',0.00609)"
   ]
  },
  {
   "cell_type": "code",
   "execution_count": 13,
   "id": "22f1e688-14c8-405f-b547-7ca0e5856909",
   "metadata": {},
   "outputs": [],
   "source": [
    "li_pe_atomic.add_nuclide('Li7',0.0639)"
   ]
  },
  {
   "cell_type": "code",
   "execution_count": 14,
   "id": "17f2d746-429d-4bdf-91fc-f2b1b5c18a6d",
   "metadata": {},
   "outputs": [],
   "source": [
    "model.materials = openmc.Materials([li_pe_atomic])"
   ]
  },
  {
   "cell_type": "code",
   "execution_count": 15,
   "id": "0453742e-be1d-44a5-8b5b-fe294c933832",
   "metadata": {},
   "outputs": [
    {
     "name": "stdout",
     "output_type": "stream",
     "text": [
      "[Material\n",
      "\tID             =\t1\n",
      "\tName           =\tLi-Polyethylene (Atomic Fraction)\n",
      "\tTemperature    =\tNone\n",
      "\tDensity        =\tNone [sum]\n",
      "\tVolume         =\tNone [cm^3]\n",
      "\tDepletable     =\tFalse\n",
      "\tS(a,b) Tables  \n",
      "\tNuclides       \n",
      "\tC12            =\t0.3075       [ao]\n",
      "\tC13            =\t0.0031       [ao]\n",
      "\tH1             =\t0.6196       [ao]\n",
      "\tH2             =\t6.24e-05     [ao]\n",
      "\tLi6            =\t0.00609      [ao]\n",
      "\tLi7            =\t0.0639       [ao]\n",
      "\tLi7            =\t0.0639       [ao]\n",
      "\tLi7            =\t0.0639       [ao]\n",
      "]\n"
     ]
    }
   ],
   "source": [
    "print(model.materials)"
   ]
  },
  {
   "cell_type": "code",
   "execution_count": null,
   "id": "483c6203-fcac-47ce-b9dd-d39b3f6f02f4",
   "metadata": {},
   "outputs": [],
   "source": []
  }
 ],
 "metadata": {
  "kernelspec": {
   "display_name": "Python 3 (ipykernel)",
   "language": "python",
   "name": "python3"
  },
  "language_info": {
   "codemirror_mode": {
    "name": "ipython",
    "version": 3
   },
   "file_extension": ".py",
   "mimetype": "text/x-python",
   "name": "python",
   "nbconvert_exporter": "python",
   "pygments_lexer": "ipython3",
   "version": "3.11.2"
  }
 },
 "nbformat": 4,
 "nbformat_minor": 5
}
